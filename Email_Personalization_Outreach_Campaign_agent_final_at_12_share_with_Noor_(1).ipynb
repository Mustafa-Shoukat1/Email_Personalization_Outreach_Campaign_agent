{
  "cells": [
    {
      "cell_type": "markdown",
      "metadata": {
        "id": "9a9-l634HM96"
      },
      "source": [
        "# Tools for a Customer Outreach Campaign"
      ]
    },
    {
      "cell_type": "code",
      "execution_count": 37,
      "metadata": {
        "colab": {
          "base_uri": "https://localhost:8080/"
        },
        "collapsed": true,
        "id": "VEfN-cpqHcBW",
        "outputId": "390281a1-86c5-4f67-f24c-594dfe83d08f"
      },
      "outputs": [
        {
          "output_type": "stream",
          "name": "stdout",
          "text": [
            "\u001b[31mERROR: pip's dependency resolver does not currently take into account all the packages that are installed. This behaviour is the source of the following dependency conflicts.\n",
            "gradio 4.42.0 requires typer<1.0,>=0.12; sys_platform != \"emscripten\", but you have typer 0.9.4 which is incompatible.\u001b[0m\u001b[31m\n",
            "\u001b[0m"
          ]
        }
      ],
      "source": [
        "!pip install crewai==0.28.8 crewai_tools==0.1.6 langchain_community==0.0.29 --quiet"
      ]
    },
    {
      "cell_type": "code",
      "execution_count": 38,
      "metadata": {
        "id": "61Q2fm-MHigw"
      },
      "outputs": [],
      "source": [
        "import os\n",
        "from crewai import Agent, Task, Crew\n",
        "from crewai_tools import DirectoryReadTool, FileReadTool, SerperDevTool, BaseTool\n",
        "!pip install --quiet langchain-groq==0.0.1\n",
        "from langchain_groq import ChatGroq"
      ]
    },
    {
      "cell_type": "code",
      "source": [
        "!pip install gradio --quiet"
      ],
      "metadata": {
        "colab": {
          "base_uri": "https://localhost:8080/"
        },
        "id": "28bviPu1xLje",
        "outputId": "2a169747-a293-4074-b02a-77dbe942b3b3"
      },
      "execution_count": 39,
      "outputs": [
        {
          "output_type": "stream",
          "name": "stdout",
          "text": [
            "\u001b[31mERROR: pip's dependency resolver does not currently take into account all the packages that are installed. This behaviour is the source of the following dependency conflicts.\n",
            "instructor 0.5.2 requires typer<0.10.0,>=0.9.0, but you have typer 0.12.5 which is incompatible.\u001b[0m\u001b[31m\n",
            "\u001b[0m"
          ]
        }
      ]
    },
    {
      "cell_type": "code",
      "execution_count": 40,
      "metadata": {
        "id": "Lc8e7rQ6Hn_X"
      },
      "outputs": [],
      "source": [
        "import os\n",
        "os.environ[\"SERPER_API_KEY\"] = \"3c75331dffc120acfa03b3bc75a4fbb3202c4927\""
      ]
    },
    {
      "cell_type": "code",
      "execution_count": 41,
      "metadata": {
        "id": "j2U9S65HTrA3",
        "colab": {
          "base_uri": "https://localhost:8080/"
        },
        "outputId": "e89dc03e-55b8-4b0a-c5a6-945d1c1c593b"
      },
      "outputs": [
        {
          "output_type": "stream",
          "name": "stdout",
          "text": [
            "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\n"
          ]
        }
      ],
      "source": [
        "\n",
        "# Set the environment variable for the Groq API key\n",
        "os.environ['GROQ_API_KEY'] = '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'\n",
        "\n",
        "print(os.getenv('GROQ_API_KEY'))\n",
        "\n",
        "\n",
        "# Initialize the ChatGroq model\n",
        "llm = ChatGroq(\n",
        "    api_key=os.getenv(\"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\"),\n",
        "    model=\"mixtral-8x7b-32768\"\n",
        ")"
      ]
    },
    {
      "cell_type": "markdown",
      "metadata": {
        "id": "3R5uO7wDI2it"
      },
      "source": [
        "# Creating Agents"
      ]
    },
    {
      "cell_type": "code",
      "execution_count": 42,
      "metadata": {
        "id": "1fjYvacII6g9"
      },
      "outputs": [],
      "source": [
        "# Define the agents\n",
        "class SalesAgents:\n",
        "    def __init__(self):\n",
        "        self.llm = llm\n",
        "\n",
        "    def sales_rep_agent(self):\n",
        "        return Agent(\n",
        "            role=\"Sales Representative\",\n",
        "            goal=\"Identify high-value leads that match our ideal customer profile\",\n",
        "            backstory=(\n",
        "                \"As a key member of the dynamic sales team at COMET Estimating LLC, your mission is to navigate the construction and \"\n",
        "                \"estimating sectors to uncover promising leads. Leveraging state-of-the-art tools and a strategic approach, \"\n",
        "                \"you delve into data, market trends, and industry interactions to identify opportunities that others might miss. \"\n",
        "                \"Your role is essential in fostering valuable connections and driving the growth of our estimating services, \"\n",
        "                \"ensuring that general contractors and subcontractors benefit from precise, actionable insights and expert support.\"\n",
        "            ),\n",
        "            allow_delegation=False,\n",
        "            verbose=True,\n",
        "            llm=self.llm,\n",
        "            # max_iter=15,\n",
        "            memory=True,\n",
        "            max_iter=2\n",
        "        )\n",
        "\n",
        "    def lead_sales_rep_agent(self):\n",
        "        return Agent(\n",
        "            role=\"Lead Sales Representative\",\n",
        "            goal=\"Nurture leads with personalized, compelling communications\",\n",
        "            backstory=(\n",
        "                \"Within the dynamic landscape of crewAI's sales department, you excel as the crucial link \"\n",
        "                \"between prospective clients and the estimating solutions they require. By crafting tailored, engaging communications, \"\n",
        "                \"you not only showcase our expert services but also ensure that general contractors and subcontractors feel understood and valued. \"\n",
        "                \"Your role is key in transforming interest into tangible outcomes, guiding leads from initial curiosity through to securing our \"\n",
        "                \"estimating services.\"\n",
        "            ),\n",
        "            allow_delegation=False,\n",
        "            verbose=True,\n",
        "            llm=self.llm,\n",
        "            # max_iter=15,\n",
        "            memory=True,\n",
        "            max_iter=2\n",
        "        )\n"
      ]
    },
    {
      "cell_type": "markdown",
      "source": [
        "# Creating Tools"
      ],
      "metadata": {
        "id": "pNWpKEJnqMY-"
      }
    },
    {
      "cell_type": "code",
      "execution_count": 43,
      "metadata": {
        "id": "NtiS-590I-Ex"
      },
      "outputs": [],
      "source": [
        "# Define the tools\n",
        "directory_read_tool = DirectoryReadTool(directory='./content')\n",
        "file_read_tool = FileReadTool()\n",
        "search_tool = SerperDevTool()\n",
        "\n",
        "class SentimentAnalysisTool(BaseTool):\n",
        "    name: str = \"Sentiment Analysis Tool\"\n",
        "    description: str = (\"Analyzes the sentiment of text to ensure positive and engaging communication according to context.\")\n",
        "\n",
        "    def _run(self, text: str) -> str:\n",
        "        # Custom sentiment analysis logic\n",
        "        return \"positive\"\n",
        "\n",
        "sentiment_analysis_tool = SentimentAnalysisTool()"
      ]
    },
    {
      "cell_type": "markdown",
      "metadata": {
        "id": "2XB_j0loJ90h"
      },
      "source": [
        "**Creating Tasks**<br><br>\n",
        "The Lead Profiling Task is using crewAI Tools."
      ]
    },
    {
      "cell_type": "code",
      "execution_count": 44,
      "metadata": {
        "id": "ieK90RQFKDiQ"
      },
      "outputs": [],
      "source": [
        "# Define the tasks\n",
        "class SalesTasks:\n",
        "    def lead_profiling_task(self):\n",
        "        return Task(\n",
        "            description=(\n",
        "                \"\"\"\n",
        "                Conduct a thorough analysis of [Lead Name], a general contractor or subcontractor in the construction sector that\n",
        "                recently expressed interest in our estimating services. Utilize all available data sources, including industry databases,\n",
        "                company websites, LinkedIn, and recent news articles, to compile a comprehensive profile. This profile should include:\n",
        "\n",
        "                1. Identification of key decision-makers within the company, such as project managers or procurement officers.\n",
        "                2. A summary of recent project developments or contracts that the company is involved in.\n",
        "                3. An assessment of their specific needs related to estimating services, such as budgeting, cost forecasting, or bidding accuracy.\n",
        "\n",
        "                Ensure that all the information used is accurate and verified, as this analysis will be crucial for customizing our\n",
        "                engagement strategy to effectively meet the company’s needs.\n",
        "                \"\"\"\n",
        "            ),\n",
        "            expected_output=(\n",
        "                \"A detailed report on {lead_name}, covering company background, key personnel, recent projects, and specific needs related to estimating services. \"\n",
        "                \"Identify potential areas where our estimating solutions can add value and propose customized engagement strategies.\"\n",
        "            ),\n",
        "            tools=[directory_read_tool, file_read_tool, search_tool],\n",
        "            agent=SalesAgents().sales_rep_agent()\n",
        "        )\n",
        "\n",
        "    def personalized_outreach_task(self):\n",
        "        return Task(\n",
        "            description=(\n",
        "                \"\"\"\n",
        "                Work at an estimating company where you are tasked with targeting general contractors or subcontractors in the construction sector.\n",
        "                Using insights from sales representative agents and the lead profiling report on {lead_name}, create a personalized outreach campaign for targeting {key_decision_maker},\n",
        "                the {position} of {lead_name}. The campaign should address their recent project developments and demonstrate how our estimating services can enhance their operations.\n",
        "                Your communication must align with {lead_name}'s company culture and demonstrate a clear understanding of their needs and objectives.\n",
        "                Ensure all information is accurate and verified.\n",
        "\n",
        "                In the dynamic world of sales, you act as the crucial link between potential clients and the services they need.\n",
        "                By crafting tailored, engaging communications, you not only showcase the strengths of the services offered but also ensure that clients feel understood and valued,\n",
        "                particularly when targeting general contractors or subcontractors in the construction sector.\n",
        "                Your role is key in transforming interest into actionable outcomes, guiding leads from initial curiosity to securing the service offered.\n",
        "                Adapt these strategies to effectively connect with any company looking to engage with similar clients.\n",
        "                \"\"\"\n",
        "            ),\n",
        "            expected_output=(\n",
        "                \"A series of customized email drafts for {lead_name}, specifically directed at {key_decision_maker}. \"\n",
        "                \"Each draft should clearly connect our estimating services with their recent project developments and goals. \"\n",
        "                \"The tone should be professional, engaging, and consistent with {lead_name}'s company culture.\"\n",
        "            ),\n",
        "            tools=[sentiment_analysis_tool, search_tool],\n",
        "            agent=SalesAgents().lead_sales_rep_agent()\n",
        "        )\n"
      ]
    },
    {
      "cell_type": "markdown",
      "source": [
        "# Define the Crew"
      ],
      "metadata": {
        "id": "5MCMlmHJqVTf"
      }
    },
    {
      "cell_type": "code",
      "source": [
        "# Create the crew\n",
        "crew = Crew(\n",
        "    agents=[\n",
        "        SalesAgents().sales_rep_agent(),\n",
        "        SalesAgents().lead_sales_rep_agent()\n",
        "    ],\n",
        "    tasks=[\n",
        "        SalesTasks().lead_profiling_task(),\n",
        "        SalesTasks().personalized_outreach_task()\n",
        "    ],\n",
        "    verbose=2,\n",
        "    memory=True\n",
        ")"
      ],
      "metadata": {
        "id": "UILLqiTxqUOf",
        "colab": {
          "base_uri": "https://localhost:8080/"
        },
        "outputId": "f51bc6ad-2f73-4b31-ef78-e45af9d38558"
      },
      "execution_count": 45,
      "outputs": [
        {
          "output_type": "stream",
          "name": "stderr",
          "text": [
            "WARNING:opentelemetry.trace:Overriding of current TracerProvider is not allowed\n"
          ]
        }
      ]
    },
    {
      "cell_type": "markdown",
      "source": [
        "# Define the inputs\n"
      ],
      "metadata": {
        "id": "Qhw_F_gOqdRD"
      }
    },
    {
      "cell_type": "code",
      "source": [
        "inputs = {\n",
        "    \"lead_name\": \"COMET ESTIMATING LLC\",\n",
        "    \"industry\": \"Contrution Estimaing COMPANY in USA\",\n",
        "    \"key_decision_maker\": \"Mustafa Shoukat\",\n",
        "    \"position\": \"President/CEO\",\n",
        "    \"milestone\": \"product launch\"\n",
        "\n",
        "}\n",
        "\n",
        "# Run the crew tasks\n",
        "result = crew.kickoff(inputs=inputs)\n",
        "\n",
        "# Print the result\n",
        "print(result)"
      ],
      "metadata": {
        "colab": {
          "base_uri": "https://localhost:8080/"
        },
        "id": "x4RjqzBOqana",
        "outputId": "95430c6d-59cb-4f87-e5c3-4720623426b0"
      },
      "execution_count": 46,
      "outputs": [
        {
          "output_type": "stream",
          "name": "stdout",
          "text": [
            "\u001b[1m\u001b[95m [DEBUG]: == Working Agent: Sales Representative\u001b[00m\n",
            "\u001b[1m\u001b[95m [INFO]: == Starting Task: \n",
            "                Conduct a thorough analysis of [Lead Name], a general contractor or subcontractor in the construction sector that\n",
            "                recently expressed interest in our estimating services. Utilize all available data sources, including industry databases,\n",
            "                company websites, LinkedIn, and recent news articles, to compile a comprehensive profile. This profile should include:\n",
            "\n",
            "                1. Identification of key decision-makers within the company, such as project managers or procurement officers.\n",
            "                2. A summary of recent project developments or contracts that the company is involved in.\n",
            "                3. An assessment of their specific needs related to estimating services, such as budgeting, cost forecasting, or bidding accuracy.\n",
            "\n",
            "                Ensure that all the information used is accurate and verified, as this analysis will be crucial for customizing our\n",
            "                engagement strategy to effectively meet the company’s needs.\n",
            "                \u001b[00m\n",
            "\n",
            "\n",
            "\u001b[1m> Entering new CrewAgentExecutor chain...\u001b[0m\n",
            "\u001b[32;1m\u001b[1;3mFinal Answer:\n",
            "\n",
            "COMET Estimating LLC Report on [Lead Name]\n",
            "\n",
            "Company Background:\n",
            "\n",
            "[Lead Name] is a well-established general contractor or subcontractor in the construction sector, with a strong reputation for delivering high-quality projects. The company has been in operation for [number of years] and has a workforce of approximately [number of employees]. Their areas of expertise include [list of expertise], and they have a diverse portfolio of completed projects in various industries such as commercial, residential, and industrial.\n",
            "\n",
            "Key Personnel:\n",
            "\n",
            "1. Project Managers:\n",
            "   - [Project Manager 1 Name]: [Project Manager 1 Role and Responsibilities]\n",
            "   - [Project Manager 2 Name]: [Project Manager 2 Role and Responsibilities]\n",
            "\n",
            "2. Procurement Officers:\n",
            "   - [Procurement Officer 1 Name]: [Procurement Officer 1 Role and Responsibilities]\n",
            "   - [Procurement Officer 2 Name]: [Procurement Officer 2 Role and Responsibilities]\n",
            "\u001b[0m\n",
            "\n",
            "\u001b[1m> Finished chain.\u001b[0m\n",
            "\u001b[1m\u001b[92m [DEBUG]: == [Sales Representative] Task output: COMET Estimating LLC Report on [Lead Name]\n",
            "\n",
            "Company Background:\n",
            "\n",
            "[Lead Name] is a well-established general contractor or subcontractor in the construction sector, with a strong reputation for delivering high-quality projects. The company has been in operation for [number of years] and has a workforce of approximately [number of employees]. Their areas of expertise include [list of expertise], and they have a diverse portfolio of completed projects in various industries such as commercial, residential, and industrial.\n",
            "\n",
            "Key Personnel:\n",
            "\n",
            "1. Project Managers:\n",
            "   - [Project Manager 1 Name]: [Project Manager 1 Role and Responsibilities]\n",
            "   - [Project Manager 2 Name]: [Project Manager 2 Role and Responsibilities]\n",
            "\n",
            "2. Procurement Officers:\n",
            "   - [Procurement Officer 1 Name]: [Procurement Officer 1 Role and Responsibilities]\n",
            "   - [Procurement Officer 2 Name]: [Procurement Officer 2 Role and Responsibilities]\n",
            "\n",
            "\u001b[00m\n",
            "\u001b[1m\u001b[95m [DEBUG]: == Working Agent: Lead Sales Representative\u001b[00m\n",
            "\u001b[1m\u001b[95m [INFO]: == Starting Task: \n",
            "                Work at an estimating company where you are tasked with targeting general contractors or subcontractors in the construction sector.\n",
            "                Using insights from sales representative agents and the lead profiling report on COMET ESTIMATING LLC, create a personalized outreach campaign for targeting Mustafa Shoukat,\n",
            "                the President/CEO of COMET ESTIMATING LLC. The campaign should address their recent project developments and demonstrate how our estimating services can enhance their operations.\n",
            "                Your communication must align with COMET ESTIMATING LLC's company culture and demonstrate a clear understanding of their needs and objectives.\n",
            "                Ensure all information is accurate and verified.\n",
            "\n",
            "                In the dynamic world of sales, you act as the crucial link between potential clients and the services they need.\n",
            "                By crafting tailored, engaging communications, you not only showcase the strengths of the services offered but also ensure that clients feel understood and valued,\n",
            "                particularly when targeting general contractors or subcontractors in the construction sector.\n",
            "                Your role is key in transforming interest into actionable outcomes, guiding leads from initial curiosity to securing the service offered.\n",
            "                Adapt these strategies to effectively connect with any company looking to engage with similar clients.\n",
            "                \u001b[00m\n",
            "\n",
            "\n",
            "\u001b[1m> Entering new CrewAgentExecutor chain...\u001b[0m\n",
            "\u001b[32;1m\u001b[1;3mFinal Answer:\n",
            "\n",
            "Email Draft 1:\n",
            "Subject: Elevate Your Project Management with Our Estimating Services\n",
            "\n",
            "Dear Mustafa Shoukat,\n",
            "\n",
            "I hope this message finds you well. I'm writing to introduce our expert estimating services and how they can enhance your project management at COMET Estimating LLC.\n",
            "\n",
            "With a strong reputation for delivering high-quality projects, I understand the importance of maintaining accuracy and efficiency in your operations. Our team specializes in providing tailored estimating solutions that cater to your specific needs and areas of expertise.\n",
            "\n",
            "By integrating our services into your project management process, you can expect:\n",
            "\n",
            "1. Improved accuracy in cost estimation\n",
            "2. Streamlined workflows for procurement officers\n",
            "3. Enhanced collaboration between project managers and estimators\n",
            "\n",
            "I would be delighted to arrange a call to discuss our estimating services further and explore how they can align with COMET Estimating LLC's objectives and company culture.\n",
            "\n",
            "Looking forward to connecting with you soon.\n",
            "\n",
            "Best regards,\n",
            "\n",
            "[Your Name]\n",
            "Lead Sales Representative\n",
            "crewAI\n",
            "\n",
            "\n",
            "Email Draft 2:\n",
            "Subject: Boost Your Estimating Process with Our Advanced Solutions\n",
            "\n",
            "Dear Mustafa Shoukat,\n",
            "\n",
            "Greetings from crewAI! I wanted to reach out and express my admiration for COMET Estimating LLC's diverse portfolio of completed projects in various industries. As a trusted estimating solutions provider, I believe our team can help enhance your estimating process and contribute to your continued success.\n",
            "\n",
            "Our advanced estimating services offer:\n",
            "\n",
            "1. Integration with existing project management systems\n",
            "2. Customizable reporting for procurement officers and project managers\n",
            "3. Accelerated timelines for cost estimation and budgeting\n",
            "\n",
            "I would be thrilled to schedule a call to demonstrate the value our services can bring to COMET Estimating LLC and align with your company's objectives and culture.\n",
            "\n",
            "Please let me know if you are available for a conversation next week.\n",
            "\n",
            "Best regards,\n",
            "\n",
            "[Your Name]\n",
            "Lead Sales Representative\n",
            "crewAI\n",
            "\n",
            "\n",
            "Email Draft 3:\n",
            "Subject: Enhance Collaboration and Efficiency with Our Expert Estimating Services\n",
            "\n",
            "Dear Mustafa Shoukat,\n",
            "\n",
            "At crewAI, we're committed to providing estimating solutions that drive collaboration and efficiency for general contractors and subcontractors. With COMET Estimating LLC's impressive track record of delivering high-quality projects, I'm confident that our services can further contribute to your success.\n",
            "\n",
            "Our estimating services focus on:\n",
            "\n",
            "1. Seamless collaboration between project managers, estimators, and procurement officers\n",
            "2. Enhanced cost estimation accuracy for various industries\n",
            "3. Streamlined procurement processes for timely material acquisition\n",
            "\n",
            "I would be delighted to arrange a demo of our services and discuss how they can complement COMET Estimating LLC's company culture and goals.\n",
            "\n",
            "Please let me know if you are interested in learning more about our estimating solutions.\n",
            "\n",
            "Best regards,\n",
            "\n",
            "[Your Name]\n",
            "Lead Sales Representative\n",
            "crewAI\u001b[0m\n",
            "\n",
            "\u001b[1m> Finished chain.\u001b[0m\n",
            "\u001b[1m\u001b[92m [DEBUG]: == [Lead Sales Representative] Task output: Email Draft 1:\n",
            "Subject: Elevate Your Project Management with Our Estimating Services\n",
            "\n",
            "Dear Mustafa Shoukat,\n",
            "\n",
            "I hope this message finds you well. I'm writing to introduce our expert estimating services and how they can enhance your project management at COMET Estimating LLC.\n",
            "\n",
            "With a strong reputation for delivering high-quality projects, I understand the importance of maintaining accuracy and efficiency in your operations. Our team specializes in providing tailored estimating solutions that cater to your specific needs and areas of expertise.\n",
            "\n",
            "By integrating our services into your project management process, you can expect:\n",
            "\n",
            "1. Improved accuracy in cost estimation\n",
            "2. Streamlined workflows for procurement officers\n",
            "3. Enhanced collaboration between project managers and estimators\n",
            "\n",
            "I would be delighted to arrange a call to discuss our estimating services further and explore how they can align with COMET Estimating LLC's objectives and company culture.\n",
            "\n",
            "Looking forward to connecting with you soon.\n",
            "\n",
            "Best regards,\n",
            "\n",
            "[Your Name]\n",
            "Lead Sales Representative\n",
            "crewAI\n",
            "\n",
            "\n",
            "Email Draft 2:\n",
            "Subject: Boost Your Estimating Process with Our Advanced Solutions\n",
            "\n",
            "Dear Mustafa Shoukat,\n",
            "\n",
            "Greetings from crewAI! I wanted to reach out and express my admiration for COMET Estimating LLC's diverse portfolio of completed projects in various industries. As a trusted estimating solutions provider, I believe our team can help enhance your estimating process and contribute to your continued success.\n",
            "\n",
            "Our advanced estimating services offer:\n",
            "\n",
            "1. Integration with existing project management systems\n",
            "2. Customizable reporting for procurement officers and project managers\n",
            "3. Accelerated timelines for cost estimation and budgeting\n",
            "\n",
            "I would be thrilled to schedule a call to demonstrate the value our services can bring to COMET Estimating LLC and align with your company's objectives and culture.\n",
            "\n",
            "Please let me know if you are available for a conversation next week.\n",
            "\n",
            "Best regards,\n",
            "\n",
            "[Your Name]\n",
            "Lead Sales Representative\n",
            "crewAI\n",
            "\n",
            "\n",
            "Email Draft 3:\n",
            "Subject: Enhance Collaboration and Efficiency with Our Expert Estimating Services\n",
            "\n",
            "Dear Mustafa Shoukat,\n",
            "\n",
            "At crewAI, we're committed to providing estimating solutions that drive collaboration and efficiency for general contractors and subcontractors. With COMET Estimating LLC's impressive track record of delivering high-quality projects, I'm confident that our services can further contribute to your success.\n",
            "\n",
            "Our estimating services focus on:\n",
            "\n",
            "1. Seamless collaboration between project managers, estimators, and procurement officers\n",
            "2. Enhanced cost estimation accuracy for various industries\n",
            "3. Streamlined procurement processes for timely material acquisition\n",
            "\n",
            "I would be delighted to arrange a demo of our services and discuss how they can complement COMET Estimating LLC's company culture and goals.\n",
            "\n",
            "Please let me know if you are interested in learning more about our estimating solutions.\n",
            "\n",
            "Best regards,\n",
            "\n",
            "[Your Name]\n",
            "Lead Sales Representative\n",
            "crewAI\n",
            "\n",
            "\u001b[00m\n",
            "Email Draft 1:\n",
            "Subject: Elevate Your Project Management with Our Estimating Services\n",
            "\n",
            "Dear Mustafa Shoukat,\n",
            "\n",
            "I hope this message finds you well. I'm writing to introduce our expert estimating services and how they can enhance your project management at COMET Estimating LLC.\n",
            "\n",
            "With a strong reputation for delivering high-quality projects, I understand the importance of maintaining accuracy and efficiency in your operations. Our team specializes in providing tailored estimating solutions that cater to your specific needs and areas of expertise.\n",
            "\n",
            "By integrating our services into your project management process, you can expect:\n",
            "\n",
            "1. Improved accuracy in cost estimation\n",
            "2. Streamlined workflows for procurement officers\n",
            "3. Enhanced collaboration between project managers and estimators\n",
            "\n",
            "I would be delighted to arrange a call to discuss our estimating services further and explore how they can align with COMET Estimating LLC's objectives and company culture.\n",
            "\n",
            "Looking forward to connecting with you soon.\n",
            "\n",
            "Best regards,\n",
            "\n",
            "[Your Name]\n",
            "Lead Sales Representative\n",
            "crewAI\n",
            "\n",
            "\n",
            "Email Draft 2:\n",
            "Subject: Boost Your Estimating Process with Our Advanced Solutions\n",
            "\n",
            "Dear Mustafa Shoukat,\n",
            "\n",
            "Greetings from crewAI! I wanted to reach out and express my admiration for COMET Estimating LLC's diverse portfolio of completed projects in various industries. As a trusted estimating solutions provider, I believe our team can help enhance your estimating process and contribute to your continued success.\n",
            "\n",
            "Our advanced estimating services offer:\n",
            "\n",
            "1. Integration with existing project management systems\n",
            "2. Customizable reporting for procurement officers and project managers\n",
            "3. Accelerated timelines for cost estimation and budgeting\n",
            "\n",
            "I would be thrilled to schedule a call to demonstrate the value our services can bring to COMET Estimating LLC and align with your company's objectives and culture.\n",
            "\n",
            "Please let me know if you are available for a conversation next week.\n",
            "\n",
            "Best regards,\n",
            "\n",
            "[Your Name]\n",
            "Lead Sales Representative\n",
            "crewAI\n",
            "\n",
            "\n",
            "Email Draft 3:\n",
            "Subject: Enhance Collaboration and Efficiency with Our Expert Estimating Services\n",
            "\n",
            "Dear Mustafa Shoukat,\n",
            "\n",
            "At crewAI, we're committed to providing estimating solutions that drive collaboration and efficiency for general contractors and subcontractors. With COMET Estimating LLC's impressive track record of delivering high-quality projects, I'm confident that our services can further contribute to your success.\n",
            "\n",
            "Our estimating services focus on:\n",
            "\n",
            "1. Seamless collaboration between project managers, estimators, and procurement officers\n",
            "2. Enhanced cost estimation accuracy for various industries\n",
            "3. Streamlined procurement processes for timely material acquisition\n",
            "\n",
            "I would be delighted to arrange a demo of our services and discuss how they can complement COMET Estimating LLC's company culture and goals.\n",
            "\n",
            "Please let me know if you are interested in learning more about our estimating solutions.\n",
            "\n",
            "Best regards,\n",
            "\n",
            "[Your Name]\n",
            "Lead Sales Representative\n",
            "crewAI\n"
          ]
        }
      ]
    },
    {
      "cell_type": "markdown",
      "metadata": {
        "id": "3jSWBXlqKHBB"
      },
      "source": [
        "The Personalized Outreach Task is using your custom Tool SentimentAnalysisTool, as well as crewAI's SerperDevTool (search_tool)."
      ]
    },
    {
      "cell_type": "code",
      "execution_count": 47,
      "metadata": {
        "colab": {
          "base_uri": "https://localhost:8080/",
          "height": 954
        },
        "id": "gWvbrLxXKafJ",
        "outputId": "593af09c-aa7a-430e-ec5c-c500e86b05b3"
      },
      "outputs": [
        {
          "output_type": "execute_result",
          "data": {
            "text/plain": [
              "<IPython.core.display.Markdown object>"
            ],
            "text/markdown": "Email Draft 1:\nSubject: Elevate Your Project Management with Our Estimating Services\n\nDear Mustafa Shoukat,\n\nI hope this message finds you well. I'm writing to introduce our expert estimating services and how they can enhance your project management at COMET Estimating LLC.\n\nWith a strong reputation for delivering high-quality projects, I understand the importance of maintaining accuracy and efficiency in your operations. Our team specializes in providing tailored estimating solutions that cater to your specific needs and areas of expertise.\n\nBy integrating our services into your project management process, you can expect:\n\n1. Improved accuracy in cost estimation\n2. Streamlined workflows for procurement officers\n3. Enhanced collaboration between project managers and estimators\n\nI would be delighted to arrange a call to discuss our estimating services further and explore how they can align with COMET Estimating LLC's objectives and company culture.\n\nLooking forward to connecting with you soon.\n\nBest regards,\n\n[Your Name]\nLead Sales Representative\ncrewAI\n\n\nEmail Draft 2:\nSubject: Boost Your Estimating Process with Our Advanced Solutions\n\nDear Mustafa Shoukat,\n\nGreetings from crewAI! I wanted to reach out and express my admiration for COMET Estimating LLC's diverse portfolio of completed projects in various industries. As a trusted estimating solutions provider, I believe our team can help enhance your estimating process and contribute to your continued success.\n\nOur advanced estimating services offer:\n\n1. Integration with existing project management systems\n2. Customizable reporting for procurement officers and project managers\n3. Accelerated timelines for cost estimation and budgeting\n\nI would be thrilled to schedule a call to demonstrate the value our services can bring to COMET Estimating LLC and align with your company's objectives and culture.\n\nPlease let me know if you are available for a conversation next week.\n\nBest regards,\n\n[Your Name]\nLead Sales Representative\ncrewAI\n\n\nEmail Draft 3:\nSubject: Enhance Collaboration and Efficiency with Our Expert Estimating Services\n\nDear Mustafa Shoukat,\n\nAt crewAI, we're committed to providing estimating solutions that drive collaboration and efficiency for general contractors and subcontractors. With COMET Estimating LLC's impressive track record of delivering high-quality projects, I'm confident that our services can further contribute to your success.\n\nOur estimating services focus on:\n\n1. Seamless collaboration between project managers, estimators, and procurement officers\n2. Enhanced cost estimation accuracy for various industries\n3. Streamlined procurement processes for timely material acquisition\n\nI would be delighted to arrange a demo of our services and discuss how they can complement COMET Estimating LLC's company culture and goals.\n\nPlease let me know if you are interested in learning more about our estimating solutions.\n\nBest regards,\n\n[Your Name]\nLead Sales Representative\ncrewAI"
          },
          "metadata": {},
          "execution_count": 47
        }
      ],
      "source": [
        "from IPython.display import Markdown\n",
        "Markdown(result)"
      ]
    },
    {
      "cell_type": "code",
      "source": [],
      "metadata": {
        "id": "CHO9OVo1xKOG"
      },
      "execution_count": 47,
      "outputs": []
    },
    {
      "cell_type": "code",
      "source": [
        "import gradio as gr\n",
        "\n",
        "\n",
        "def run_tasks(lead_name, industry, key_decision_maker, position, milestone):\n",
        "    # Set up inputs for the crew\n",
        "    inputs = {\n",
        "        \"lead_name\": lead_name,\n",
        "        \"industry\": industry,\n",
        "        \"key_decision_maker\": key_decision_maker,\n",
        "        \"position\": position,\n",
        "        \"milestone\": milestone\n",
        "    }\n",
        "\n",
        "    # Run the crew tasks\n",
        "    result = crew.kickoff(inputs=inputs)\n",
        "    return result\n",
        "\n",
        "# Create the Gradio interface\n",
        "iface = gr.Interface(\n",
        "    fn=run_tasks,\n",
        "    inputs=[\n",
        "        gr.Textbox(label=\"Lead Name\", placeholder=\"Enter the company name\"),\n",
        "        gr.Textbox(label=\"Industry\", placeholder=\"Enter the industry\"),\n",
        "        gr.Textbox(label=\"Key Decision Maker\", placeholder=\"Enter the name of the key decision maker\"),\n",
        "        gr.Textbox(label=\"Position\", placeholder=\"Enter the position of the key decision maker\"),\n",
        "        gr.Textbox(label=\"Milestone\", placeholder=\"Enter the milestone\")\n",
        "    ],\n",
        "    outputs=\"text\",\n",
        "    title=\"Sales Task Runner\",\n",
        "    description=\"Enter the company details to run the sales tasks and get the results.\"\n",
        ")\n",
        "\n",
        "# Launch the Gradio app\n",
        "iface.launch()\n"
      ],
      "metadata": {
        "colab": {
          "base_uri": "https://localhost:8080/",
          "height": 649
        },
        "id": "JJYpIr7YvyTw",
        "outputId": "960daebc-6087-49d5-cccb-f14b9645fc8a"
      },
      "execution_count": 48,
      "outputs": [
        {
          "output_type": "stream",
          "name": "stdout",
          "text": [
            "Setting queue=True in a Colab notebook requires sharing enabled. Setting `share=True` (you can turn this off by setting `share=False` in `launch()` explicitly).\n",
            "\n",
            "Colab notebook detected. To show errors in colab notebook, set debug=True in launch()\n",
            "Running on public URL: https://0571c015b1fbe25430.gradio.live\n",
            "\n",
            "This share link expires in 72 hours. For free permanent hosting and GPU upgrades, run `gradio deploy` from Terminal to deploy to Spaces (https://huggingface.co/spaces)\n"
          ]
        },
        {
          "output_type": "display_data",
          "data": {
            "text/plain": [
              "<IPython.core.display.HTML object>"
            ],
            "text/html": [
              "<div><iframe src=\"https://0571c015b1fbe25430.gradio.live\" width=\"100%\" height=\"500\" allow=\"autoplay; camera; microphone; clipboard-read; clipboard-write;\" frameborder=\"0\" allowfullscreen></iframe></div>"
            ]
          },
          "metadata": {}
        },
        {
          "output_type": "execute_result",
          "data": {
            "text/plain": []
          },
          "metadata": {},
          "execution_count": 48
        }
      ]
    },
    {
      "cell_type": "code",
      "source": [],
      "metadata": {
        "id": "rAKD9LQjtt7k"
      },
      "execution_count": 48,
      "outputs": []
    }
  ],
  "metadata": {
    "colab": {
      "provenance": []
    },
    "kernelspec": {
      "display_name": "Python 3",
      "name": "python3"
    },
    "language_info": {
      "name": "python"
    }
  },
  "nbformat": 4,
  "nbformat_minor": 0
}